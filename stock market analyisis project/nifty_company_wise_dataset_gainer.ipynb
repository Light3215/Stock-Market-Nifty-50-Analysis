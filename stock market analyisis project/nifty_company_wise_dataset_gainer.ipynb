{
 "cells": [
  {
   "cell_type": "code",
   "execution_count": null,
   "id": "db167d59-d1d8-45ed-9714-aceb4483383d",
   "metadata": {},
   "outputs": [],
   "source": []
  },
  {
   "cell_type": "code",
   "execution_count": 57,
   "id": "0e86513f-2ad1-47c9-a1be-baa9f8c61d69",
   "metadata": {},
   "outputs": [],
   "source": [
    "import requests\n",
    "from bs4 import BeautifulSoup\n",
    "import pandas as pd\n",
    "\n",
    "# URL of the website to scrape\n",
    "url = \"https://www.equitymaster.com/india-markets/nse-replica.asp\"\n",
    "\n",
    "# Send a GET request to the website\n",
    "response = requests.get(url)\n",
    "\n",
    "# Parse the HTML content using BeautifulSoup\n",
    "soup = BeautifulSoup(response.text, 'html.parser')\n",
    "\n",
    "# Find the table with the relevant data\n",
    "table = soup.find('table', {'class': 'mystocksbig mystocks newtab cls'})  # Replace with the actual class name or id of the table\n",
    "\n",
    "# Initialize lists to store table data\n",
    "data = []\n",
    "# headers = []"
   ]
  },
  {
   "cell_type": "code",
   "execution_count": 58,
   "id": "990be6ae-3181-45d4-94fb-50105d86a610",
   "metadata": {},
   "outputs": [],
   "source": [
    "# # Extract table rows\n",
    "# for row in table.find('thead').find('tr').find('th'):\n",
    "#     cols = [col.text.strip() for col in row]\n",
    "#     data.append(cols)\n",
    "\n",
    "for row in table.find_all('tr')[1:]:\n",
    "    cols = row.find_all('td')\n",
    "    cols = [col.text.strip() for col in cols]\n",
    "    data.append(cols)"
   ]
  },
  {
   "cell_type": "code",
   "execution_count": 59,
   "id": "8cea5595-42ff-406a-b6d3-45c703d8c1ed",
   "metadata": {},
   "outputs": [
    {
     "name": "stdout",
     "output_type": "stream",
     "text": [
      "[]\n",
      "[]\n",
      "['ADANI ENTERPRISES', 'MISCELLANEOUS', '3,187.6', '0.6', '1,140.0', '3,633,811', '0.3', '42,270', '37.1', '86.0']\n",
      "['ADANI PORTS & SEZ', 'MISCELLANEOUS', '1,533.8', '1.0', '2,160.1', '3,313,221', '0.3', '92,554', '42.8', '35.8']\n",
      "['APOLLO HOSPITALS', 'MISCELLANEOUS', '6,587.9', '0.7', '143.8', '947,232', '0.7', '9,170', '63.8', '103.3']\n",
      "['ASIAN PAINTS', 'PAINTS', '3,040.6', '1.2', '959.2', '2,916,537', '0.5', '50,306', '52.4', '58.0']\n",
      "['AXIS BANK', 'BANKING', '1,142.8', '0.4', '3,091.6', '3,532,924', '0.9', '267,746', '86.6', '13.2']\n",
      "['BAJAJ AUTO', 'AUTOMOBILES', '9,766.0', '1.3', '279.2', '2,726,456', '0.4', '77,328', '277.0', '35.3']\n",
      "['BAJAJ FINANCE', 'FINANCE', '6,618.2', '0.6', '620.0', '4,103,083', '0.5', '149,189', '240.6', '27.5']\n",
      "['BAJAJ FINSERV', 'FINANCE', '1,560.2', '1.3', '1,596.7', '2,491,112', '0.4', '160,875', '100.8', '15.5']\n",
      "['BHARTI AIRTEL', 'TELECOM', '1,464.1', '0.9', '6,085.3', '8,909,450', '0.5', '87,241', '14.3', '102.1']\n",
      "['BPCL', 'ENERGY', '333.4', '-1.5', '4,338.5', '1,446,446', '0.5', '180,878', '41.7', '8.0']\n",
      "['CIPLA', 'PHARMACEUTICALS', '1,574.8', '0.3', '807.6', '1,271,705', '0.7', '43,350', '53.7', '29.3']\n",
      "['COAL INDIA', 'MINING', '529.8', '1.2', '6,162.7', '3,265,013', '0.4', '349,559', '56.7', '9.3']\n",
      "['DIVIS LABORATORIES', 'PHARMACEUTICALS', '4,830.0', '-0.1', '265.5', '1,282,200', '0.5', '16,740', '63.1', '76.6']\n",
      "['DR. REDDYS LAB', 'PHARMACEUTICALS', '7,013.5', '1.1', '166.8', '1,170,060', '0.7', '55,490', '332.6', '21.1']\n",
      "['EICHER MOTORS', 'AUTOMOBILES', '4,830.6', '5.5', '274.1', '1,323,878', '0.5', '36,623', '133.6', '36.1']\n",
      "['GRASIM', 'TEXTILES', '2,572.8', '1.1', '680.6', '1,750,885', '0.6', '94,966', '139.5', '18.4']\n",
      "['HCL TECHNOLOGIES', 'SOFTWARE', '1,590.0', '2.1', '2,713.7', '4,314,592', '0.4', '164,380', '60.6', '26.2']\n",
      "['HDFC BANK', 'BANKING', '1,650.2', '0.5', '7,617.5', '12,570,388', '1.0', '702,313', '92.2', '17.9']\n",
      "['HDFC LIFE INSURANCE', 'INSURANCE', '702.4', '-1.1', '2,151.0', '1,510,848', '0.5', '16,364', '7.6', '92.3']\n",
      "['HERO MOTOCORP', 'AUTOMOBILES', '5,207.2', '0.9', '199.9', '1,041,081', '0.7', '38,624', '193.2', '27.0']\n",
      "['HINDALCO', 'ALUMINIUM', '622.9', '1.4', '2,247.2', '1,399,791', '0.7', '101,530', '45.2', '13.8']\n",
      "['HINDUSTAN UNILEVER', 'FMCG', '2,747.2', '0.5', '2,349.6', '6,454,797', '0.4', '103,430', '44.0', '62.4']\n",
      "['ICICI BANK', 'BANKING', '1,171.6', '0.6', '7,041.3', '8,249,548', '1.0', '466,493', '66.3', '17.7']\n",
      "['INDUSIND BANK', 'BANKING', '1,349.8', '0.2', '778.8', '1,051,177', '0.8', '90,233', '115.9', '11.6']\n",
      "['INFOSYS', 'SOFTWARE', '1,770.8', '1.6', '4,152.1', '7,352,358', '0.9', '266,770', '64.2', '27.6']\n",
      "['IOC', 'ENERGY', '169.1', '-0.7', '14,121.2', '2,387,760', '0.5', '303,705', '21.5', '7.9']\n",
      "['ITC', 'FOOD & TOBACCO', '495.9', '0.2', '12,504.2', '6,200,838', '1.0', '207,130', '16.6', '29.9']\n",
      "['JSW STEEL', 'STEEL', '905.1', '2.0', '2,445.5', '2,213,380', '0.6', '75,620', '30.9', '29.3']\n",
      "['KOTAK MAHINDRA BANK', 'BANKING', '1,769.7', '-0.2', '1,988.1', '3,518,277', '0.7', '212,669', '107.0', '16.5']\n",
      "['L&T', 'ENGINEERING', '3,592.1', '1.1', '1,375.0', '4,939,050', '1.0', '158,937', '115.6', '31.1']\n",
      "['LTIMINDTREE', 'SOFTWARE', '5,385.0', '0.9', '296.2', '1,594,877', '0.3', '45,674', '154.2', '34.9']\n",
      "['M&M', 'AUTOMOBILES', '2,749.2', '2.5', '1,243.5', '3,418,647', '0.8', '109,472', '88.0', '31.2']\n",
      "['MARUTI SUZUKI', 'AUTOMOBILES', '12,224.2', '0.0', '314.4', '3,843,320', '0.4', '144,336', '459.1', '26.6']\n",
      "['NESTLE', 'FOOD & TOBACCO', '2,504.7', '0.6', '964.2', '2,414,925', '0.4', '32,445', '33.7', '74.4']\n",
      "['NTPC', 'POWER', '410.7', '0.7', '9,696.7', '3,981,936', '0.5', '193,837', '20.0', '20.5']\n",
      "['ONGC', 'ENERGY', '332.6', '3.1', '12,580.3', '4,183,572', '0.4', '469,786', '37.3', '8.9']\n",
      "['POWER GRID', 'POWER', '346.0', '1.0', '9,300.6', '3,218,009', '0.5', '159,734', '17.2', '20.1']\n",
      "['RELIANCE IND.', 'ENERGY', '2,948.6', '1.7', '6,766.2', '19,950,903', '0.5', '778,990', '115.1', '25.6']\n",
      "['SBI', 'BANKING', '824.3', '2.0', '8,924.6', '7,356,558', '0.4', '690,831', '77.4', '10.6']\n",
      "['SBI LIFE INSURANCE', 'INSURANCE', '1,725.1', '1.1', '1,001.6', '1,727,820', '0.4', '20,323', '20.3', '85.0']\n",
      "['SHRIRAM FINANCE', 'FINANCE', '2,955.0', '2.9', '376.0', '1,110,966', '0.7', '76,606', '203.8', '14.5']\n",
      "['SUN PHARMA', 'PHARMACEUTICALS', '1,735.3', '-0.1', '2,399.3', '4,163,566', '0.5', '105,067', '43.8', '39.6']\n",
      "['TATA CONSUMER', 'FMCG', '1,186.2', '0.7', '989.5', '1,173,674', '0.7', '12,566', '12.7', '93.4']\n",
      "['TATA MOTORS', 'AUTOMOBILES', '1,068.1', '2.5', '3,324.7', '3,551,068', '0.5', '335,803', '101.0', '10.6']\n",
      "['TATA STEEL', 'STEEL', '151.8', '1.0', '12,483.5', '1,895,113', '0.7', '-48,217', '-3.9', '-']\n",
      "['TCS', 'SOFTWARE', '4,228.8', '1.4', '3,618.1', '15,299,988', '0.3', '470,840', '130.1', '32.5']\n",
      "['TECH MAHINDRA', 'SOFTWARE', '1,506.7', '2.7', '978.2', '1,473,784', '0.6', '25,527', '26.1', '57.7']\n",
      "['TITAN', 'RETAILING', '3,331.7', '1.1', '887.8', '2,957,837', '0.5', '34,540', '38.9', '85.6']\n",
      "['ULTRATECH CEMENT', 'CEMENT', '11,300.4', '0.4', '288.7', '3,262,381', '0.4', '69,878', '242.0', '46.7']\n",
      "['WIPRO', 'SOFTWARE', '491.3', '0.8', '5,230.8', '2,569,907', '0.3', '112,908', '21.6', '22.8']\n",
      "['TOTAL', '172,121', '196,436,748', '', '8,463,426', 'Avg. PER', '23.2']\n"
     ]
    }
   ],
   "source": [
    "for i in data:\n",
    "    print(i)"
   ]
  },
  {
   "cell_type": "code",
   "execution_count": 60,
   "id": "07665510-7004-488e-8e2f-818a2c6e66e9",
   "metadata": {},
   "outputs": [],
   "source": [
    "# # Extract table headers\n",
    "# for th in table.find_all('th'):\n",
    "#     headers.append(th.text.strip())\n",
    "#     print(th.text.strip())"
   ]
  },
  {
   "cell_type": "code",
   "execution_count": 61,
   "id": "d977ad11-74d1-4855-9ea1-ffde2f399962",
   "metadata": {},
   "outputs": [
    {
     "name": "stdout",
     "output_type": "stream",
     "text": [
      "Data scraped and saved to nse_data.xlsx\n"
     ]
    }
   ],
   "source": [
    "headers = ['COMPANY','INDUSTRY','MARKET PRICE(Rs)','CHANGE(%)','NO OFSHARES(m)','MARKET CAP.**(Rs m)','FREE FLOAT ADJ. FACTOR#','EARNINGS *(Rs m)','EPS(Rs)','PER(X)']\n",
    "# Create a DataFrame from the data\n",
    "df = pd.DataFrame(data, columns=headers)\n",
    "\n",
    "# Save the DataFrame to an Excel file\n",
    "df.to_excel('nse_data.xlsx', index=False)\n",
    "\n",
    "print(\"Data scraped and saved to nse_data.xlsx\")\n"
   ]
  },
  {
   "cell_type": "code",
   "execution_count": null,
   "id": "ef40f663-5297-4908-9cfa-bef20d218c32",
   "metadata": {},
   "outputs": [],
   "source": []
  },
  {
   "cell_type": "code",
   "execution_count": null,
   "id": "f72361e6-cf21-4482-80fb-2fdcf59c5efc",
   "metadata": {},
   "outputs": [],
   "source": []
  },
  {
   "cell_type": "code",
   "execution_count": null,
   "id": "fd2c6dcf-0487-4da0-a0dd-524703f3eb8d",
   "metadata": {},
   "outputs": [],
   "source": []
  }
 ],
 "metadata": {
  "kernelspec": {
   "display_name": "Python 3 (ipykernel)",
   "language": "python",
   "name": "python3"
  },
  "language_info": {
   "codemirror_mode": {
    "name": "ipython",
    "version": 3
   },
   "file_extension": ".py",
   "mimetype": "text/x-python",
   "name": "python",
   "nbconvert_exporter": "python",
   "pygments_lexer": "ipython3",
   "version": "3.9.7"
  }
 },
 "nbformat": 4,
 "nbformat_minor": 5
}
